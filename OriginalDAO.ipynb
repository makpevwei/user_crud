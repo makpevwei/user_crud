{
 "cells": [
  {
   "cell_type": "code",
   "execution_count": 7,
   "metadata": {},
   "outputs": [
    {
     "ename": "ImportError",
     "evalue": "cannot import name 'generate_password_hash' from 'werkzeug' (C:\\Users\\M\\Anaconda3\\lib\\site-packages\\werkzeug\\__init__.py)",
     "output_type": "error",
     "traceback": [
      "\u001b[1;31m---------------------------------------------------------------------------\u001b[0m",
      "\u001b[1;31mImportError\u001b[0m                               Traceback (most recent call last)",
      "\u001b[1;32m<ipython-input-7-800a20e9900b>\u001b[0m in \u001b[0;36m<module>\u001b[1;34m\u001b[0m\n\u001b[0;32m      1\u001b[0m \u001b[1;32mimport\u001b[0m \u001b[0mpymysql\u001b[0m\u001b[1;33m\u001b[0m\u001b[1;33m\u001b[0m\u001b[0m\n\u001b[0;32m      2\u001b[0m \u001b[1;32mfrom\u001b[0m \u001b[0mdb_config\u001b[0m \u001b[1;32mimport\u001b[0m \u001b[0mmysql\u001b[0m\u001b[1;33m\u001b[0m\u001b[1;33m\u001b[0m\u001b[0m\n\u001b[1;32m----> 3\u001b[1;33m \u001b[1;32mfrom\u001b[0m \u001b[0mwerkzeug\u001b[0m \u001b[1;32mimport\u001b[0m \u001b[0mgenerate_password_hash\u001b[0m\u001b[1;33m,\u001b[0m \u001b[0mcheck_password_hash\u001b[0m\u001b[1;33m\u001b[0m\u001b[1;33m\u001b[0m\u001b[0m\n\u001b[0m",
      "\u001b[1;31mImportError\u001b[0m: cannot import name 'generate_password_hash' from 'werkzeug' (C:\\Users\\M\\Anaconda3\\lib\\site-packages\\werkzeug\\__init__.py)"
     ]
    }
   ],
   "source": [
    "import pymysql\n",
    "from db_config import mysql\n",
    "from werkzeug import generate_password_hash, check_password_hash"
   ]
  },
  {
   "cell_type": "code",
   "execution_count": 6,
   "metadata": {},
   "outputs": [],
   "source": [
    "class UserBean:\n",
    "    userId = \"\"\n",
    "    name = \"\"\n",
    "    email = \"\"\n",
    "    password = \"\""
   ]
  },
  {
   "cell_type": "code",
   "execution_count": 2,
   "metadata": {
    "scrolled": true
   },
   "outputs": [],
   "source": [
    "class UserDAO:\n",
    "    def addUserRecord(self, u=UserBean()):\n",
    "        try:\n",
    "            hpassword = generate_password_hash(u.password)\n",
    "            \n",
    "            sql = \"INSERT INTO tbl_user(user_name, user_email, user_password) VALUES(%s, %s, %s)\"\n",
    "            data = (u.name, u.email, hpassword,)\n",
    "            conn = mysql.connect()\n",
    "            cursor = conn.cursor()\n",
    "            cursor.execute(sql, data)\n",
    "            conn.commit()\n",
    "            return 0\n",
    "        except Exception as e:\n",
    "            print(e)\n",
    "        finally:\n",
    "            cursor.close() \n",
    "            conn.close()\n",
    "            \n",
    "            \n",
    "    def updateUserRecord(self, u=UserBean()):\n",
    "        try:\n",
    "            hpassword = generate_password_hash(u.password)\n",
    "            \n",
    "            sql = \"UPDATE tbl_user SET user_name=%s, user_email=%s, user_password=%s WHERE user_id=%s\"\n",
    "            data = (u.name, u.email, hpassword, u.userId,)\n",
    "            conn = mysql.connect()\n",
    "            cursor = conn.cursor()\n",
    "            cursor.execute(sql, data)\n",
    "            conn.commit()\n",
    "            return 0\n",
    "        except Exception as e:\n",
    "            print(e)\n",
    "        finally:\n",
    "            cursor.close() \n",
    "            conn.close()\n",
    "            \n",
    "\n",
    "            \n",
    "    def deleteUserRecord(self, userId):\n",
    "        try:\n",
    "            hpassword = generate_password_hash(u.password)\n",
    "            \n",
    "            sql = \"DELETE FROM tbl_user WHERE user_id=%s\"\n",
    "            conn = mysql.connect()\n",
    "            cursor = conn.cursor()\n",
    "            cursor.execute(sql, (userId,))\n",
    "            conn.commit()\n",
    "            return 0\n",
    "        except Exception as e:\n",
    "            print(e)\n",
    "        finally:\n",
    "            cursor.close() \n",
    "            conn.close()\n",
    "            \n",
    "\n",
    "    def getUserRecord(self, userId):\n",
    "        try:\n",
    "            \n",
    "            sql = \"SELECT user_id Id, user_name name, user_email email, user_password pwd FROM tbl_user WHERE user_id=%s\"\n",
    "            conn = mysql.connect()\n",
    "            cursor = conn.cursor(pymysql.cursors.DictCursor)\n",
    "            cursor.execute(sql, (userId,))\n",
    "            record = cursor.fetchone()\n",
    "            \n",
    "            u = UserBean()\n",
    "            for v in record:\n",
    "                u.userId = record['Id']\n",
    "                u.name = record['name']\n",
    "                u.email = record['email']\n",
    "                u.password = record['pwd']\n",
    "            \n",
    "            return u\n",
    "        except Exception as e:\n",
    "            print(e)\n",
    "        finally:\n",
    "            cursor.close() \n",
    "            conn.close()\n",
    "            \n",
    "    def getUserList(self):\n",
    "        try:\n",
    "            \n",
    "            sql = \"SELECT user_id Id, user_name name, user_email email, user_password pwd FROM tbl_user\"\n",
    "            conn = mysql.connect()\n",
    "            cursor = conn.cursor(pymysql.cursors.DictCursor)\n",
    "            cursor.execute(sql)\n",
    "            records = cursor.fetchall()\n",
    "            \n",
    "            users = []\n",
    "            for index in range(len(records)):\n",
    "                user = UserBean()\n",
    "                user.userId = records[index]['Id']\n",
    "                user.name = records[index]['name']\n",
    "                user.email = records[index]['email']\n",
    "                user.password = records[index]['pwd']\n",
    "                \n",
    "                users.append(user)\n",
    "            \n",
    "            return users\n",
    "        except Exception as e:\n",
    "            print(e)\n",
    "        finally:\n",
    "            cursor.close() \n",
    "            conn.close()"
   ]
  },
  {
   "cell_type": "code",
   "execution_count": 3,
   "metadata": {},
   "outputs": [
    {
     "name": "stdout",
     "output_type": "stream",
     "text": [
      "name 'mysql' is not defined\n"
     ]
    },
    {
     "ename": "UnboundLocalError",
     "evalue": "local variable 'cursor' referenced before assignment",
     "output_type": "error",
     "traceback": [
      "\u001b[1;31m---------------------------------------------------------------------------\u001b[0m",
      "\u001b[1;31mUnboundLocalError\u001b[0m                         Traceback (most recent call last)",
      "\u001b[1;32m<ipython-input-3-9d8647f7944e>\u001b[0m in \u001b[0;36m<module>\u001b[1;34m\u001b[0m\n\u001b[0;32m     18\u001b[0m \u001b[1;31m# # print(\"User: \",user)\u001b[0m\u001b[1;33m\u001b[0m\u001b[1;33m\u001b[0m\u001b[1;33m\u001b[0m\u001b[0m\n\u001b[0;32m     19\u001b[0m \u001b[1;33m\u001b[0m\u001b[0m\n\u001b[1;32m---> 20\u001b[1;33m \u001b[0musers\u001b[0m \u001b[1;33m=\u001b[0m \u001b[0mudao\u001b[0m\u001b[1;33m.\u001b[0m\u001b[0mgetUserList\u001b[0m\u001b[1;33m(\u001b[0m\u001b[1;33m)\u001b[0m\u001b[1;33m\u001b[0m\u001b[1;33m\u001b[0m\u001b[0m\n\u001b[0m\u001b[0;32m     21\u001b[0m \u001b[1;32mfor\u001b[0m \u001b[0muser\u001b[0m \u001b[1;32min\u001b[0m \u001b[0musers\u001b[0m\u001b[1;33m:\u001b[0m\u001b[1;33m\u001b[0m\u001b[1;33m\u001b[0m\u001b[0m\n\u001b[0;32m     22\u001b[0m     \u001b[0mprint\u001b[0m\u001b[1;33m(\u001b[0m\u001b[1;34m\"UserId: \"\u001b[0m\u001b[1;33m,\u001b[0m\u001b[0muser\u001b[0m\u001b[1;33m.\u001b[0m\u001b[0muserId\u001b[0m\u001b[1;33m)\u001b[0m\u001b[1;33m\u001b[0m\u001b[1;33m\u001b[0m\u001b[0m\n",
      "\u001b[1;32m<ipython-input-2-77b077e2fd22>\u001b[0m in \u001b[0;36mgetUserList\u001b[1;34m(self)\u001b[0m\n\u001b[0;32m    100\u001b[0m             \u001b[0mprint\u001b[0m\u001b[1;33m(\u001b[0m\u001b[0me\u001b[0m\u001b[1;33m)\u001b[0m\u001b[1;33m\u001b[0m\u001b[1;33m\u001b[0m\u001b[0m\n\u001b[0;32m    101\u001b[0m         \u001b[1;32mfinally\u001b[0m\u001b[1;33m:\u001b[0m\u001b[1;33m\u001b[0m\u001b[1;33m\u001b[0m\u001b[0m\n\u001b[1;32m--> 102\u001b[1;33m             \u001b[0mcursor\u001b[0m\u001b[1;33m.\u001b[0m\u001b[0mclose\u001b[0m\u001b[1;33m(\u001b[0m\u001b[1;33m)\u001b[0m\u001b[1;33m\u001b[0m\u001b[1;33m\u001b[0m\u001b[0m\n\u001b[0m\u001b[0;32m    103\u001b[0m             \u001b[0mconn\u001b[0m\u001b[1;33m.\u001b[0m\u001b[0mclose\u001b[0m\u001b[1;33m(\u001b[0m\u001b[1;33m)\u001b[0m\u001b[1;33m\u001b[0m\u001b[1;33m\u001b[0m\u001b[0m\n",
      "\u001b[1;31mUnboundLocalError\u001b[0m: local variable 'cursor' referenced before assignment"
     ]
    }
   ],
   "source": [
    "udao=UserDAO()\n",
    "\n",
    "u=UserBean()\n",
    "u.userId = 11\n",
    "u.name = \"Daniel\"\n",
    "u.email = \"daniel@yhaoo.xom\"\n",
    "u.password = \"1234\"\n",
    "\n",
    "# r = udao.deleteUserRecord(11)\n",
    "# print(\"Response: \",r)\n",
    "\n",
    "\n",
    "# user = udao.getUserRecord(10)\n",
    "# print(\"Id: \",user.userId)\n",
    "# print(\"Name: \",user.name)\n",
    "# print(\"Email: \",user.email)\n",
    "# print(\"Password: \",user.password)\n",
    "# # print(\"User: \",user)\n",
    "\n",
    "users = udao.getUserList()\n",
    "for user in users:\n",
    "    print(\"UserId: \",user.userId)\n",
    "    print(\"UserName: \",user.name)\n",
    "    print(\"UserEmail: \",user.email)\n",
    "    print(\"UserPassword: \",user.password)\n",
    "    print()"
   ]
  },
  {
   "cell_type": "code",
   "execution_count": null,
   "metadata": {},
   "outputs": [],
   "source": []
  },
  {
   "cell_type": "code",
   "execution_count": null,
   "metadata": {},
   "outputs": [],
   "source": []
  },
  {
   "cell_type": "code",
   "execution_count": null,
   "metadata": {},
   "outputs": [],
   "source": []
  }
 ],
 "metadata": {
  "kernelspec": {
   "display_name": "Python 3",
   "language": "python",
   "name": "python3"
  },
  "language_info": {
   "codemirror_mode": {
    "name": "ipython",
    "version": 3
   },
   "file_extension": ".py",
   "mimetype": "text/x-python",
   "name": "python",
   "nbconvert_exporter": "python",
   "pygments_lexer": "ipython3",
   "version": "3.7.1"
  }
 },
 "nbformat": 4,
 "nbformat_minor": 2
}
